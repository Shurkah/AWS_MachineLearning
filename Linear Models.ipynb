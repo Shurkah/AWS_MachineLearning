{
  "metadata": {
    "kernelspec": {
      "name": "python",
      "display_name": "Python (Pyodide)",
      "language": "python"
    },
    "language_info": {
      "codemirror_mode": {
        "name": "python",
        "version": 3
      },
      "file_extension": ".py",
      "mimetype": "text/x-python",
      "name": "python",
      "nbconvert_exporter": "python",
      "pygments_lexer": "ipython3",
      "version": "3.8"
    }
  },
  "nbformat_minor": 5,
  "nbformat": 4,
  "cells": [
    {
      "cell_type": "markdown",
      "source": "# Exercise: Linear Models\n\nIn this exercise, we'll be exploring two types of linear models, one regression, one classification. While regression is what you typically think of for a linear model, they can also be used effectively in classification problems.\n\nYou're tasked with compeleting the following steps:\n1. Load in the wine dataset from scikit learn.\n2. For the wine dataset, create a train and test split, 80% train / 20% test.\n3. Create a LogisticRegression model with these hyper parameters: random_state=0, max_iter=10000\n4. Evaluate the model with the test dataset\n5. Load the diabetes dataset from scikit learn\n6. For the Diabetes dataset, create a train and test split, 80% train / 20% test.\n7. Create a SGDRegressor model model with these hyper parameters: random_state=0, max_iter=10000\n8. Evaluate the model with the test dataset",
      "metadata": {},
      "id": "d9520883-fb9c-42fd-8d73-d19e3a401c7f"
    },
    {
      "cell_type": "code",
      "source": "import numpy as np\nimport pandas as pd\nfrom sklearn import datasets\nfrom sklearn.model_selection import train_test_split\nfrom sklearn.linear_model import LogisticRegression, SGDRegressor",
      "metadata": {
        "trusted": true
      },
      "execution_count": 1,
      "outputs": [],
      "id": "6dfefd6d-ed7f-46e3-a0c0-befda8d6aa23"
    },
    {
      "cell_type": "markdown",
      "source": "## Linear Classifier",
      "metadata": {},
      "id": "66e6fd8c-df16-4109-a7a8-6c6ccb2cdf29"
    },
    {
      "cell_type": "code",
      "source": "# Load in the wine dataset\nwine = datasets.load_wine()",
      "metadata": {
        "trusted": true
      },
      "execution_count": 2,
      "outputs": [],
      "id": "e7a04364-286e-4b92-a7c4-dc554895c9b2"
    },
    {
      "cell_type": "code",
      "source": "# Create the wine `data` dataset as a dataframe and name the columns with `feature_names`\ndf = pd.DataFrame(wine['data'], columns=wine['feature_names'])\n\n# Include the target as well\ndf['target'] = wine['target']",
      "metadata": {
        "trusted": true
      },
      "execution_count": 6,
      "outputs": [],
      "id": "fa712020-12c1-4b62-b512-fb440d9d5b51"
    },
    {
      "cell_type": "code",
      "source": "# Check your dataframe by `.head()`\ndf.head()",
      "metadata": {
        "trusted": true
      },
      "execution_count": 8,
      "outputs": [
        {
          "execution_count": 8,
          "output_type": "execute_result",
          "data": {
            "text/plain": "   alcohol  malic_acid   ash  alcalinity_of_ash  magnesium  total_phenols  \\\n0    14.23        1.71  2.43               15.6      127.0           2.80   \n1    13.20        1.78  2.14               11.2      100.0           2.65   \n2    13.16        2.36  2.67               18.6      101.0           2.80   \n3    14.37        1.95  2.50               16.8      113.0           3.85   \n4    13.24        2.59  2.87               21.0      118.0           2.80   \n\n   flavanoids  nonflavanoid_phenols  proanthocyanins  color_intensity   hue  \\\n0        3.06                  0.28             2.29             5.64  1.04   \n1        2.76                  0.26             1.28             4.38  1.05   \n2        3.24                  0.30             2.81             5.68  1.03   \n3        3.49                  0.24             2.18             7.80  0.86   \n4        2.69                  0.39             1.82             4.32  1.04   \n\n   od280/od315_of_diluted_wines  proline  target  \n0                          3.92   1065.0       0  \n1                          3.40   1050.0       0  \n2                          3.17   1185.0       0  \n3                          3.45   1480.0       0  \n4                          2.93    735.0       0  ",
            "text/html": "<div>\n<style scoped>\n    .dataframe tbody tr th:only-of-type {\n        vertical-align: middle;\n    }\n\n    .dataframe tbody tr th {\n        vertical-align: top;\n    }\n\n    .dataframe thead th {\n        text-align: right;\n    }\n</style>\n<table border=\"1\" class=\"dataframe\">\n  <thead>\n    <tr style=\"text-align: right;\">\n      <th></th>\n      <th>alcohol</th>\n      <th>malic_acid</th>\n      <th>ash</th>\n      <th>alcalinity_of_ash</th>\n      <th>magnesium</th>\n      <th>total_phenols</th>\n      <th>flavanoids</th>\n      <th>nonflavanoid_phenols</th>\n      <th>proanthocyanins</th>\n      <th>color_intensity</th>\n      <th>hue</th>\n      <th>od280/od315_of_diluted_wines</th>\n      <th>proline</th>\n      <th>target</th>\n    </tr>\n  </thead>\n  <tbody>\n    <tr>\n      <th>0</th>\n      <td>14.23</td>\n      <td>1.71</td>\n      <td>2.43</td>\n      <td>15.6</td>\n      <td>127.0</td>\n      <td>2.80</td>\n      <td>3.06</td>\n      <td>0.28</td>\n      <td>2.29</td>\n      <td>5.64</td>\n      <td>1.04</td>\n      <td>3.92</td>\n      <td>1065.0</td>\n      <td>0</td>\n    </tr>\n    <tr>\n      <th>1</th>\n      <td>13.20</td>\n      <td>1.78</td>\n      <td>2.14</td>\n      <td>11.2</td>\n      <td>100.0</td>\n      <td>2.65</td>\n      <td>2.76</td>\n      <td>0.26</td>\n      <td>1.28</td>\n      <td>4.38</td>\n      <td>1.05</td>\n      <td>3.40</td>\n      <td>1050.0</td>\n      <td>0</td>\n    </tr>\n    <tr>\n      <th>2</th>\n      <td>13.16</td>\n      <td>2.36</td>\n      <td>2.67</td>\n      <td>18.6</td>\n      <td>101.0</td>\n      <td>2.80</td>\n      <td>3.24</td>\n      <td>0.30</td>\n      <td>2.81</td>\n      <td>5.68</td>\n      <td>1.03</td>\n      <td>3.17</td>\n      <td>1185.0</td>\n      <td>0</td>\n    </tr>\n    <tr>\n      <th>3</th>\n      <td>14.37</td>\n      <td>1.95</td>\n      <td>2.50</td>\n      <td>16.8</td>\n      <td>113.0</td>\n      <td>3.85</td>\n      <td>3.49</td>\n      <td>0.24</td>\n      <td>2.18</td>\n      <td>7.80</td>\n      <td>0.86</td>\n      <td>3.45</td>\n      <td>1480.0</td>\n      <td>0</td>\n    </tr>\n    <tr>\n      <th>4</th>\n      <td>13.24</td>\n      <td>2.59</td>\n      <td>2.87</td>\n      <td>21.0</td>\n      <td>118.0</td>\n      <td>2.80</td>\n      <td>2.69</td>\n      <td>0.39</td>\n      <td>1.82</td>\n      <td>4.32</td>\n      <td>1.04</td>\n      <td>2.93</td>\n      <td>735.0</td>\n      <td>0</td>\n    </tr>\n  </tbody>\n</table>\n</div>"
          },
          "metadata": {}
        }
      ],
      "id": "e984bee8-c113-43b1-94d5-fc8f32f5c1ce"
    },
    {
      "cell_type": "code",
      "source": "# Split your data with these ratios: train: 0.8 | test: 0.2\ndf_train, df_test = train_test_split(df, test_size = 0.2, random_state = 0)",
      "metadata": {
        "trusted": true
      },
      "execution_count": 9,
      "outputs": [],
      "id": "b173fb21-cb9e-4474-87c2-c3bf4f08cd05"
    },
    {
      "cell_type": "code",
      "source": "# How does the model perform on the training dataset and default model parameters?\n# Using the hyperparameters in the requirements, is there improvement?\n# Remember we use the test dataset to score the model\nclf = LogisticRegression(random_state = 0, max_iter = 10000).fit(df_train.loc[:, df_train.columns != 'target'], df_train['target'])\nclf.score(df_test.loc[:, df_test.columns != 'target'], df_test['target'])",
      "metadata": {
        "trusted": true
      },
      "execution_count": 12,
      "outputs": [
        {
          "execution_count": 12,
          "output_type": "execute_result",
          "data": {
            "text/plain": "0.9722222222222222"
          },
          "metadata": {}
        }
      ],
      "id": "7205ac08-20cd-48c5-a90e-44960f6d81f6"
    },
    {
      "cell_type": "markdown",
      "source": "## Linear Regression",
      "metadata": {},
      "id": "1e26fbb2-efb9-4ae6-aef1-42f8ecd47b86"
    },
    {
      "cell_type": "code",
      "source": "# Load in the diabetes dataset\ndiabetes = datasets.load_diabetes()",
      "metadata": {
        "trusted": true
      },
      "execution_count": 13,
      "outputs": [],
      "id": "f18359b5-0bb0-43ba-95b5-76dce8c4624d"
    },
    {
      "cell_type": "code",
      "source": "# Create the diabetes `data` dataset as a dataframe and name the columns with `feature_names`\ndfd = pd.DataFrame(diabetes['data'], columns = diabetes['feature_names'])\n\n# Include the target as well\ndfd['target'] = diabetes['target']",
      "metadata": {
        "trusted": true
      },
      "execution_count": 14,
      "outputs": [],
      "id": "7151cb23-2f34-4709-859f-a19d094b0b42"
    },
    {
      "cell_type": "code",
      "source": "# Check your dataframe by `.head()`\ndfd.head()",
      "metadata": {
        "trusted": true
      },
      "execution_count": 15,
      "outputs": [
        {
          "execution_count": 15,
          "output_type": "execute_result",
          "data": {
            "text/plain": "        age       sex       bmi        bp        s1        s2        s3  \\\n0  0.038076  0.050680  0.061696  0.021872 -0.044223 -0.034821 -0.043401   \n1 -0.001882 -0.044642 -0.051474 -0.026328 -0.008449 -0.019163  0.074412   \n2  0.085299  0.050680  0.044451 -0.005670 -0.045599 -0.034194 -0.032356   \n3 -0.089063 -0.044642 -0.011595 -0.036656  0.012191  0.024991 -0.036038   \n4  0.005383 -0.044642 -0.036385  0.021872  0.003935  0.015596  0.008142   \n\n         s4        s5        s6  target  \n0 -0.002592  0.019907 -0.017646   151.0  \n1 -0.039493 -0.068332 -0.092204    75.0  \n2 -0.002592  0.002861 -0.025930   141.0  \n3  0.034309  0.022688 -0.009362   206.0  \n4 -0.002592 -0.031988 -0.046641   135.0  ",
            "text/html": "<div>\n<style scoped>\n    .dataframe tbody tr th:only-of-type {\n        vertical-align: middle;\n    }\n\n    .dataframe tbody tr th {\n        vertical-align: top;\n    }\n\n    .dataframe thead th {\n        text-align: right;\n    }\n</style>\n<table border=\"1\" class=\"dataframe\">\n  <thead>\n    <tr style=\"text-align: right;\">\n      <th></th>\n      <th>age</th>\n      <th>sex</th>\n      <th>bmi</th>\n      <th>bp</th>\n      <th>s1</th>\n      <th>s2</th>\n      <th>s3</th>\n      <th>s4</th>\n      <th>s5</th>\n      <th>s6</th>\n      <th>target</th>\n    </tr>\n  </thead>\n  <tbody>\n    <tr>\n      <th>0</th>\n      <td>0.038076</td>\n      <td>0.050680</td>\n      <td>0.061696</td>\n      <td>0.021872</td>\n      <td>-0.044223</td>\n      <td>-0.034821</td>\n      <td>-0.043401</td>\n      <td>-0.002592</td>\n      <td>0.019907</td>\n      <td>-0.017646</td>\n      <td>151.0</td>\n    </tr>\n    <tr>\n      <th>1</th>\n      <td>-0.001882</td>\n      <td>-0.044642</td>\n      <td>-0.051474</td>\n      <td>-0.026328</td>\n      <td>-0.008449</td>\n      <td>-0.019163</td>\n      <td>0.074412</td>\n      <td>-0.039493</td>\n      <td>-0.068332</td>\n      <td>-0.092204</td>\n      <td>75.0</td>\n    </tr>\n    <tr>\n      <th>2</th>\n      <td>0.085299</td>\n      <td>0.050680</td>\n      <td>0.044451</td>\n      <td>-0.005670</td>\n      <td>-0.045599</td>\n      <td>-0.034194</td>\n      <td>-0.032356</td>\n      <td>-0.002592</td>\n      <td>0.002861</td>\n      <td>-0.025930</td>\n      <td>141.0</td>\n    </tr>\n    <tr>\n      <th>3</th>\n      <td>-0.089063</td>\n      <td>-0.044642</td>\n      <td>-0.011595</td>\n      <td>-0.036656</td>\n      <td>0.012191</td>\n      <td>0.024991</td>\n      <td>-0.036038</td>\n      <td>0.034309</td>\n      <td>0.022688</td>\n      <td>-0.009362</td>\n      <td>206.0</td>\n    </tr>\n    <tr>\n      <th>4</th>\n      <td>0.005383</td>\n      <td>-0.044642</td>\n      <td>-0.036385</td>\n      <td>0.021872</td>\n      <td>0.003935</td>\n      <td>0.015596</td>\n      <td>0.008142</td>\n      <td>-0.002592</td>\n      <td>-0.031988</td>\n      <td>-0.046641</td>\n      <td>135.0</td>\n    </tr>\n  </tbody>\n</table>\n</div>"
          },
          "metadata": {}
        }
      ],
      "id": "39c182a0-5cc2-4a26-a2bf-31627de43928"
    },
    {
      "cell_type": "code",
      "source": "# Split your data with these ratios: train: 0.8 | test: 0.2\ndfd_train, dfd_test = train_test_split(dfd, test_size = 0.2, random_state = 0)",
      "metadata": {
        "trusted": true
      },
      "execution_count": 16,
      "outputs": [],
      "id": "16a764a8-b7c8-464c-bd1b-b75d6e95fef7"
    },
    {
      "cell_type": "code",
      "source": "# How does the model perform on the training dataset and default model parameters?\n# Using the hyperparameters in the requirements, is there improvement?\n# Remember we use the test dataset to score the model\nreg = SGDRegressor(random_state = 0, max_iter = 10000).fit(dfd_train.loc[:, dfd_train.columns != 'target'], dfd_train['target'])\nreg.score(dfd_test.loc[:, dfd_test.columns != 'target'], dfd_test['target'])",
      "metadata": {
        "trusted": true
      },
      "execution_count": 17,
      "outputs": [
        {
          "execution_count": 17,
          "output_type": "execute_result",
          "data": {
            "text/plain": "0.3484895912801911"
          },
          "metadata": {}
        }
      ],
      "id": "ba67a9df-362d-4779-9155-37051af17bc7"
    }
  ]
}
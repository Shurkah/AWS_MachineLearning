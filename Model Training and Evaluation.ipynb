{
  "metadata": {
    "kernelspec": {
      "name": "python",
      "display_name": "Python (Pyodide)",
      "language": "python"
    },
    "language_info": {
      "codemirror_mode": {
        "name": "python",
        "version": 3
      },
      "file_extension": ".py",
      "mimetype": "text/x-python",
      "name": "python",
      "nbconvert_exporter": "python",
      "pygments_lexer": "ipython3",
      "version": "3.8"
    }
  },
  "nbformat_minor": 5,
  "nbformat": 4,
  "cells": [
    {
      "cell_type": "markdown",
      "source": "# Exercise: Model Training and Evaluation\n\nNow that we have the data fundamentals for creating, cleaning, and modifying our datasets, we can train and evaluate a model, in this case it's a linear regression model.\n\nYour tasks for this exercise are:\n1. Create a dataframe with the regression dataset, include the features and target within the same dataframe.\n2. Create a 60% Train / 20% Validation / 20% Test dataset group using the `train_test_split` method.\n3. Fit the LinearRegression model on the training set.\n4. Evaluate the model on the validation set.\n5. Evaluate the model on the test set.",
      "metadata": {},
      "id": "cd0efdab-cdff-4a3a-b93b-36b1cdb8a37c"
    },
    {
      "cell_type": "code",
      "source": "import pandas as pd\nfrom sklearn.datasets import make_regression\nfrom sklearn.model_selection import train_test_split\nfrom sklearn.linear_model import LinearRegression",
      "metadata": {
        "trusted": true
      },
      "execution_count": 1,
      "outputs": [],
      "id": "7d594dbd-6d8d-48cb-8782-f17ad6350f31"
    },
    {
      "cell_type": "code",
      "source": "regression_dataset = make_regression(\n    n_samples=10000,\n    n_features=10,\n    n_informative=5,\n    bias=0,\n    noise=40,\n    n_targets=1,\n    random_state=0,\n)",
      "metadata": {
        "trusted": true
      },
      "execution_count": 2,
      "outputs": [],
      "id": "f88843cb-0660-42cc-9b48-57347e41b8e3"
    },
    {
      "cell_type": "code",
      "source": "# Create the dataframe using the dataset\ndf = pd.DataFrame(regression_dataset[0])\ndf[\"target\"] = regression_dataset[1]",
      "metadata": {
        "trusted": true
      },
      "execution_count": 3,
      "outputs": [],
      "id": "9ffee2de-2a93-4317-9c0a-4660e987849d"
    },
    {
      "cell_type": "code",
      "source": "# `.head()` to view what the dataset looks like\ndf.head()",
      "metadata": {
        "trusted": true
      },
      "execution_count": 4,
      "outputs": [
        {
          "execution_count": 4,
          "output_type": "execute_result",
          "data": {
            "text/plain": "          0         1         2         3         4         5         6  \\\n0 -1.039309 -0.533254  0.006352 -0.130216 -0.672371 -1.227693 -1.605115   \n1  0.906268  1.112101 -0.816500  0.461619  0.883569  1.125719 -0.993897   \n2  0.334137  0.320004 -0.248267 -0.317444  0.834343  1.381073  0.901058   \n3  0.250441 -1.215110 -1.562450  0.162566 -1.630155 -0.449801 -1.033361   \n4 -1.440993 -0.388298 -0.431737  0.518420 -0.405904 -0.785488  1.008090   \n\n          7         8         9      target  \n0  0.313087  1.709311  1.486217 -190.336109  \n1  0.999854 -1.919401 -1.137031   33.264389  \n2 -0.655725  0.340868 -1.481551  120.287805  \n3 -0.671750 -1.331549 -0.979638 -472.599566  \n4 -0.695019  1.885108 -0.913755   42.355214  ",
            "text/html": "<div>\n<style scoped>\n    .dataframe tbody tr th:only-of-type {\n        vertical-align: middle;\n    }\n\n    .dataframe tbody tr th {\n        vertical-align: top;\n    }\n\n    .dataframe thead th {\n        text-align: right;\n    }\n</style>\n<table border=\"1\" class=\"dataframe\">\n  <thead>\n    <tr style=\"text-align: right;\">\n      <th></th>\n      <th>0</th>\n      <th>1</th>\n      <th>2</th>\n      <th>3</th>\n      <th>4</th>\n      <th>5</th>\n      <th>6</th>\n      <th>7</th>\n      <th>8</th>\n      <th>9</th>\n      <th>target</th>\n    </tr>\n  </thead>\n  <tbody>\n    <tr>\n      <th>0</th>\n      <td>-1.039309</td>\n      <td>-0.533254</td>\n      <td>0.006352</td>\n      <td>-0.130216</td>\n      <td>-0.672371</td>\n      <td>-1.227693</td>\n      <td>-1.605115</td>\n      <td>0.313087</td>\n      <td>1.709311</td>\n      <td>1.486217</td>\n      <td>-190.336109</td>\n    </tr>\n    <tr>\n      <th>1</th>\n      <td>0.906268</td>\n      <td>1.112101</td>\n      <td>-0.816500</td>\n      <td>0.461619</td>\n      <td>0.883569</td>\n      <td>1.125719</td>\n      <td>-0.993897</td>\n      <td>0.999854</td>\n      <td>-1.919401</td>\n      <td>-1.137031</td>\n      <td>33.264389</td>\n    </tr>\n    <tr>\n      <th>2</th>\n      <td>0.334137</td>\n      <td>0.320004</td>\n      <td>-0.248267</td>\n      <td>-0.317444</td>\n      <td>0.834343</td>\n      <td>1.381073</td>\n      <td>0.901058</td>\n      <td>-0.655725</td>\n      <td>0.340868</td>\n      <td>-1.481551</td>\n      <td>120.287805</td>\n    </tr>\n    <tr>\n      <th>3</th>\n      <td>0.250441</td>\n      <td>-1.215110</td>\n      <td>-1.562450</td>\n      <td>0.162566</td>\n      <td>-1.630155</td>\n      <td>-0.449801</td>\n      <td>-1.033361</td>\n      <td>-0.671750</td>\n      <td>-1.331549</td>\n      <td>-0.979638</td>\n      <td>-472.599566</td>\n    </tr>\n    <tr>\n      <th>4</th>\n      <td>-1.440993</td>\n      <td>-0.388298</td>\n      <td>-0.431737</td>\n      <td>0.518420</td>\n      <td>-0.405904</td>\n      <td>-0.785488</td>\n      <td>1.008090</td>\n      <td>-0.695019</td>\n      <td>1.885108</td>\n      <td>-0.913755</td>\n      <td>42.355214</td>\n    </tr>\n  </tbody>\n</table>\n</div>"
          },
          "metadata": {}
        }
      ],
      "id": "ce3f98fb-4002-4cbb-a478-711eb9ac88c7"
    },
    {
      "cell_type": "code",
      "source": "# train: 0.8 | test: 0.2\ndf_train, df_test = train_test_split(df, test_size = 0.2, random_state = 0)\n\n# train: 0.6 | validation: 0.2\ndf_train, df_val = train_test_split(df_train, test_size = 0.25, random_state = 0)\n\n# Final dataset sizes: train: 0.6, validation: 0.2, text: 0.2,",
      "metadata": {
        "trusted": true
      },
      "execution_count": 5,
      "outputs": [],
      "id": "05db4d76-f9e8-441e-8c80-5dc338d7188c"
    },
    {
      "cell_type": "code",
      "source": "# Output each shape to confirm the size of train/validation/test\nprint(f\"Train: {df_train.shape}\")\nprint(f\"Validation: {df_val.shape}\")\nprint(f\"Test: {df_test.shape}\")",
      "metadata": {
        "trusted": true
      },
      "execution_count": 10,
      "outputs": [
        {
          "name": "stdout",
          "text": "Train: (6000, 11)\nValidation: (2000, 11)\nTest: (2000, 11)\n",
          "output_type": "stream"
        }
      ],
      "id": "fad18b68-9c2c-4375-b0f1-d6cf724a3ec7"
    },
    {
      "cell_type": "code",
      "source": "# Train the linear model by fitting it on the dataframe features and dataframe target\nreg = LinearRegression().fit(df_train",
      "metadata": {},
      "execution_count": null,
      "outputs": [],
      "id": "4b51585f-ca26-466c-937c-e6e092b5f1ef"
    },
    {
      "cell_type": "code",
      "source": "# Evaluate the linear model by scoring it, by default it's the metric r2.\nreg.score(?)",
      "metadata": {},
      "execution_count": null,
      "outputs": [],
      "id": "e215a0d1-e0fa-47e7-86b3-a7b02fcc7bd1"
    },
    {
      "cell_type": "code",
      "source": "# Once done optimizing the model using the validation dataset,\n# Evaluate the linear model by scoring it on the test dataset.\nreg.score(?)",
      "metadata": {},
      "execution_count": null,
      "outputs": [],
      "id": "19a89d02-ba16-45c5-a250-7c44ab6b4947"
    }
  ]
}
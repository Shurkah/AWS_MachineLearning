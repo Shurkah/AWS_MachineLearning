{
  "metadata": {
    "kernelspec": {
      "name": "python",
      "display_name": "Python (Pyodide)",
      "language": "python"
    },
    "language_info": {
      "codemirror_mode": {
        "name": "python",
        "version": 3
      },
      "file_extension": ".py",
      "mimetype": "text/x-python",
      "name": "python",
      "nbconvert_exporter": "python",
      "pygments_lexer": "ipython3",
      "version": "3.8"
    }
  },
  "nbformat_minor": 5,
  "nbformat": 4,
  "cells": [
    {
      "cell_type": "markdown",
      "source": "# Exercise: Supervised and Unsupervised Machine Learning\n\nUsing the iris dataset from the previous lesson, we're going to create two models, one supervised, one unsupervised, and compare how their predictions differ.\n\nComplete the notebook by filling in the code where there are `?`.",
      "metadata": {},
      "id": "c9370169-316e-42c8-bb72-0ce51d00ac3d"
    },
    {
      "cell_type": "code",
      "source": "import numpy as np\nimport pandas as pd\nimport sklearn\nfrom sklearn import datasets",
      "metadata": {
        "trusted": true
      },
      "execution_count": 1,
      "outputs": [],
      "id": "8b7d7f7f-06e8-4775-a24b-f87c03c53d7b"
    },
    {
      "cell_type": "code",
      "source": "# Load in the iris dataset\niris = datasets.load_iris()",
      "metadata": {
        "trusted": true
      },
      "execution_count": 2,
      "outputs": [],
      "id": "8cec611c-08f5-4c49-927b-d4856958cd71"
    },
    {
      "cell_type": "code",
      "source": "# Create the iris `data` dataset as a dataframe and name the columns with `feature_names`\ndf = pd.DataFrame(iris['data'], columns=iris['feature_names'])\n\n# Include the target as well\ndf['target'] = iris['target']",
      "metadata": {
        "trusted": true
      },
      "execution_count": 3,
      "outputs": [],
      "id": "b49828d2-9312-435a-881f-f0fe4a0c363c"
    },
    {
      "cell_type": "code",
      "source": "# Check your dataframe by `.head()`\ndf.head()",
      "metadata": {
        "tags": [],
        "trusted": true
      },
      "execution_count": 4,
      "outputs": [
        {
          "execution_count": 4,
          "output_type": "execute_result",
          "data": {
            "text/plain": "   sepal length (cm)  sepal width (cm)  petal length (cm)  petal width (cm)  \\\n0                5.1               3.5                1.4               0.2   \n1                4.9               3.0                1.4               0.2   \n2                4.7               3.2                1.3               0.2   \n3                4.6               3.1                1.5               0.2   \n4                5.0               3.6                1.4               0.2   \n\n   target  \n0       0  \n1       0  \n2       0  \n3       0  \n4       0  ",
            "text/html": "<div>\n<style scoped>\n    .dataframe tbody tr th:only-of-type {\n        vertical-align: middle;\n    }\n\n    .dataframe tbody tr th {\n        vertical-align: top;\n    }\n\n    .dataframe thead th {\n        text-align: right;\n    }\n</style>\n<table border=\"1\" class=\"dataframe\">\n  <thead>\n    <tr style=\"text-align: right;\">\n      <th></th>\n      <th>sepal length (cm)</th>\n      <th>sepal width (cm)</th>\n      <th>petal length (cm)</th>\n      <th>petal width (cm)</th>\n      <th>target</th>\n    </tr>\n  </thead>\n  <tbody>\n    <tr>\n      <th>0</th>\n      <td>5.1</td>\n      <td>3.5</td>\n      <td>1.4</td>\n      <td>0.2</td>\n      <td>0</td>\n    </tr>\n    <tr>\n      <th>1</th>\n      <td>4.9</td>\n      <td>3.0</td>\n      <td>1.4</td>\n      <td>0.2</td>\n      <td>0</td>\n    </tr>\n    <tr>\n      <th>2</th>\n      <td>4.7</td>\n      <td>3.2</td>\n      <td>1.3</td>\n      <td>0.2</td>\n      <td>0</td>\n    </tr>\n    <tr>\n      <th>3</th>\n      <td>4.6</td>\n      <td>3.1</td>\n      <td>1.5</td>\n      <td>0.2</td>\n      <td>0</td>\n    </tr>\n    <tr>\n      <th>4</th>\n      <td>5.0</td>\n      <td>3.6</td>\n      <td>1.4</td>\n      <td>0.2</td>\n      <td>0</td>\n    </tr>\n  </tbody>\n</table>\n</div>"
          },
          "metadata": {}
        }
      ],
      "id": "be486873-0093-4c7e-a90a-de027a932ffe"
    },
    {
      "cell_type": "code",
      "source": "# Target values as an array to compare against supervised and unsupervised\ndf[\"target\"].to_numpy()",
      "metadata": {
        "trusted": true
      },
      "execution_count": 5,
      "outputs": [
        {
          "execution_count": 5,
          "output_type": "execute_result",
          "data": {
            "text/plain": "array([0, 0, 0, 0, 0, 0, 0, 0, 0, 0, 0, 0, 0, 0, 0, 0, 0, 0, 0, 0, 0, 0,\n       0, 0, 0, 0, 0, 0, 0, 0, 0, 0, 0, 0, 0, 0, 0, 0, 0, 0, 0, 0, 0, 0,\n       0, 0, 0, 0, 0, 0, 1, 1, 1, 1, 1, 1, 1, 1, 1, 1, 1, 1, 1, 1, 1, 1,\n       1, 1, 1, 1, 1, 1, 1, 1, 1, 1, 1, 1, 1, 1, 1, 1, 1, 1, 1, 1, 1, 1,\n       1, 1, 1, 1, 1, 1, 1, 1, 1, 1, 1, 1, 2, 2, 2, 2, 2, 2, 2, 2, 2, 2,\n       2, 2, 2, 2, 2, 2, 2, 2, 2, 2, 2, 2, 2, 2, 2, 2, 2, 2, 2, 2, 2, 2,\n       2, 2, 2, 2, 2, 2, 2, 2, 2, 2, 2, 2, 2, 2, 2, 2, 2, 2])"
          },
          "metadata": {}
        }
      ],
      "id": "902fb344-55a1-4466-afd5-db6605723ef0"
    },
    {
      "cell_type": "markdown",
      "source": "## Supervised ML",
      "metadata": {},
      "id": "4c7b3e32-d7a6-4d72-a86c-29e6cdb9c521"
    },
    {
      "cell_type": "code",
      "source": "from sklearn.linear_model import LinearRegression",
      "metadata": {
        "trusted": true
      },
      "execution_count": 6,
      "outputs": [],
      "id": "26c132a4-1966-4a22-b096-b6d678ccd1cd"
    },
    {
      "cell_type": "code",
      "source": "# initialize and fit a linear regression model\ndata = iris['data']\ntarget = iris['target']\nreg = LinearRegression().fit(data, target)\n",
      "metadata": {
        "trusted": true
      },
      "execution_count": 10,
      "outputs": [],
      "id": "723831d3-0a08-4b8c-bf28-b436e15c3adf"
    },
    {
      "cell_type": "code",
      "source": "# Scoring of the linear regression model, but slighly deceiving since the iris dataset is classifying not regression\nreg.score(data, target)",
      "metadata": {
        "trusted": true
      },
      "execution_count": 11,
      "outputs": [
        {
          "execution_count": 11,
          "output_type": "execute_result",
          "data": {
            "text/plain": "0.9303939218549564"
          },
          "metadata": {}
        }
      ],
      "id": "c7e8ecd9-0e03-4c44-8f2d-762a16e61b33"
    },
    {
      "cell_type": "code",
      "source": "# regression output floating point numbers\nreg.predict(data)",
      "metadata": {
        "trusted": true
      },
      "execution_count": 12,
      "outputs": [
        {
          "execution_count": 12,
          "output_type": "execute_result",
          "data": {
            "text/plain": "array([-8.25493616e-02, -4.01284476e-02, -4.86276768e-02,  1.22998627e-02,\n       -7.53667248e-02,  5.82910066e-02,  3.83367194e-02, -4.44863248e-02,\n        1.98324281e-02, -8.21970989e-02, -1.01272512e-01,  7.59348686e-04,\n       -8.98630676e-02, -1.02503649e-01, -2.26652208e-01, -4.10494982e-02,\n       -3.31670043e-02, -2.16241562e-02, -3.21980063e-02, -1.07834994e-02,\n       -4.35196609e-02,  5.41496547e-02, -1.22062394e-01,  1.76835660e-01,\n        6.93528569e-02, -5.59002750e-03,  1.00228589e-01, -7.08754443e-02,\n       -8.97319983e-02,  1.99658314e-02,  1.27831946e-02,  3.26017444e-02,\n       -1.55848342e-01, -1.55367344e-01, -2.12718935e-02, -1.05063936e-01,\n       -1.50176206e-01, -1.25101345e-01, -7.04002332e-03, -5.56769102e-02,\n       -3.32980735e-02,  7.07502372e-02, -1.50559206e-02,  2.18071051e-01,\n        1.41599717e-01,  3.19873432e-02, -4.88442021e-02, -1.45725887e-02,\n       -9.00819270e-02, -6.33428789e-02,  1.20248442e+00,  1.28482413e+00,\n        1.32433716e+00,  1.18543801e+00,  1.31252984e+00,  1.25733961e+00,\n        1.39866098e+00,  9.05746439e-01,  1.17548090e+00,  1.24103868e+00,\n        9.56316654e-01,  1.28019945e+00,  9.50717416e-01,  1.31522353e+00,\n        1.05874172e+00,  1.17147061e+00,  1.38236471e+00,  9.75923347e-01,\n        1.34728479e+00,  1.02151661e+00,  1.59214618e+00,  1.09825476e+00,\n        1.41552837e+00,  1.19738107e+00,  1.12926856e+00,  1.18666915e+00,\n        1.26376188e+00,  1.49544119e+00,  1.34161032e+00,  8.53934864e-01,\n        1.01385065e+00,  9.30060938e-01,  1.05204475e+00,  1.54773844e+00,\n        1.40474588e+00,  1.38249578e+00,  1.30098933e+00,  1.18737134e+00,\n        1.16905629e+00,  1.17742211e+00,  1.20394697e+00,  1.28835108e+00,\n        1.07891720e+00,  8.98563803e-01,  1.20394464e+00,  1.11980500e+00,\n        1.18473815e+00,  1.15164973e+00,  8.71689017e-01,  1.16588160e+00,\n        2.24422636e+00,  1.75289522e+00,  1.90016020e+00,  1.74232371e+00,\n        2.00536441e+00,  2.00425879e+00,  1.60258896e+00,  1.79046937e+00,\n        1.75932217e+00,  2.15435175e+00,  1.71544659e+00,  1.73148072e+00,\n        1.84227394e+00,  1.81016241e+00,  2.05351330e+00,  1.95514179e+00,\n        1.69307008e+00,  2.04479432e+00,  2.19954392e+00,  1.48398847e+00,\n        1.99064688e+00,  1.78646464e+00,  1.96302340e+00,  1.59028808e+00,\n        1.88716969e+00,  1.72104260e+00,  1.57460622e+00,  1.60064541e+00,\n        1.91791669e+00,  1.56147908e+00,  1.79848293e+00,  1.83196924e+00,\n        1.97884189e+00,  1.44923353e+00,  1.53302790e+00,  2.00059610e+00,\n        2.08783520e+00,  1.70025272e+00,  1.58897149e+00,  1.80421091e+00,\n        2.05509670e+00,  1.85746781e+00,  1.75289522e+00,  2.04756647e+00,\n        2.13087051e+00,  1.90672143e+00,  1.68209369e+00,  1.74632699e+00,\n        1.99237157e+00,  1.66875559e+00])"
          },
          "metadata": {}
        }
      ],
      "id": "5c022e9f-7469-4d05-bb32-c8e2a3a0f95c"
    },
    {
      "cell_type": "markdown",
      "source": "# Unsupervised ML",
      "metadata": {},
      "id": "99cc656b-ddcf-475c-b438-543ca786504a"
    },
    {
      "cell_type": "code",
      "source": "from sklearn.cluster import KMeans",
      "metadata": {
        "trusted": true
      },
      "execution_count": 18,
      "outputs": [],
      "id": "1c4830d0-437d-41c6-baa1-356fb4e0effb"
    },
    {
      "cell_type": "code",
      "source": "# We already know the number of clusters, we can use during fit, hint: it's the number of classes\nkmeans = KMeans(3).fit(data)",
      "metadata": {
        "trusted": true
      },
      "execution_count": 25,
      "outputs": [
        {
          "name": "stderr",
          "text": "/lib/python3.11/site-packages/sklearn/cluster/_kmeans.py:870: FutureWarning: The default value of `n_init` will change from 10 to 'auto' in 1.4. Set the value of `n_init` explicitly to suppress the warning\n  warnings.warn(\n",
          "output_type": "stream"
        }
      ],
      "id": "2c5facac-8284-42f9-b44f-2701385cd4c9"
    },
    {
      "cell_type": "code",
      "source": "# Print the labels to see what value is in what cluster\nprint(kmeans.labels_)",
      "metadata": {
        "trusted": true
      },
      "execution_count": 27,
      "outputs": [
        {
          "name": "stdout",
          "text": "[0 0 0 0 0 0 0 0 0 0 0 0 0 0 0 0 0 0 0 0 0 0 0 0 0 0 0 0 0 0 0 0 0 0 0 0 0\n 0 0 0 0 0 0 0 0 0 0 0 0 0 1 1 2 1 1 1 1 1 1 1 1 1 1 1 1 1 1 1 1 1 1 1 1 1\n 1 1 1 2 1 1 1 1 1 1 1 1 1 1 1 1 1 1 1 1 1 1 1 1 1 1 2 1 2 2 2 2 1 2 2 2 2\n 2 2 1 1 2 2 2 2 1 2 1 2 1 2 2 1 1 2 2 2 2 2 1 2 2 2 2 1 2 2 2 1 2 2 2 1 2\n 2 1]\n",
          "output_type": "stream"
        }
      ],
      "id": "da62abde-3a3c-40b2-8899-38fa34531072"
    },
    {
      "cell_type": "code",
      "source": "# What happens if we cluster more than the actual classes?\nkmeans = KMeans(n_clusters=4, random_state=0).fit(data)",
      "metadata": {
        "trusted": true
      },
      "execution_count": 28,
      "outputs": [
        {
          "name": "stderr",
          "text": "/lib/python3.11/site-packages/sklearn/cluster/_kmeans.py:870: FutureWarning: The default value of `n_init` will change from 10 to 'auto' in 1.4. Set the value of `n_init` explicitly to suppress the warning\n  warnings.warn(\n",
          "output_type": "stream"
        }
      ],
      "id": "d124bb53-f56d-4668-9fa4-d4d6b38ab24f"
    },
    {
      "cell_type": "code",
      "source": "# Print the labels to see what value is in what cluster\nprint(kmeans.labels_)",
      "metadata": {
        "trusted": true
      },
      "execution_count": 29,
      "outputs": [
        {
          "name": "stdout",
          "text": "[1 1 1 1 1 1 1 1 1 1 1 1 1 1 1 1 1 1 1 1 1 1 1 1 1 1 1 1 1 1 1 1 1 1 1 1 1\n 1 1 1 1 1 1 1 1 1 1 1 1 1 3 3 3 0 3 0 3 0 3 0 0 0 0 3 0 3 0 0 3 0 3 0 3 3\n 3 3 3 3 3 0 0 0 0 3 0 3 3 3 0 0 0 3 0 0 0 0 0 3 0 0 2 3 2 2 2 2 0 2 2 2 3\n 3 2 3 3 2 2 2 2 3 2 3 2 3 2 2 3 3 2 2 2 2 2 3 3 2 2 2 3 2 2 2 3 2 2 2 3 3\n 2 3]\n",
          "output_type": "stream"
        }
      ],
      "id": "03fab494-8b06-4476-9ed9-18403d73f960"
    }
  ]
}